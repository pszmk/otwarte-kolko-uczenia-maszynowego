{
 "cells": [
  {
   "cell_type": "markdown",
   "metadata": {},
   "source": [
    "- chmura punktów, 2d, 3d\n",
    "- regresja (np. Boston, diabetes)\n",
    "- klasyfikacja (np. Iris)\n",
    "- zadania na obrazach\n",
    "- zadania na tekście\n",
    "- zadania na dźwięku\n",
    "- zadania na wideo\n",
    "- zadania na sekwencjach\n",
    "- zadania na grafach\n",
    "- zadania na danych przestrzennych\n",
    "\n",
    "- pojecie macierzy danych\n",
    "- pojecie tensora\n",
    "- pojecie batcha\n",
    "- pojecie epoki\n",
    "- pojecie zbioru treningowego, walidacyjnego, testowego\n",
    "- pojecie straty\n",
    "- pojecie metryki (jakości modelu)\n",
    "- pojecie modelu\n",
    "- pojecie uczenia nadzorowanego\n",
    "- pojecie uczenia nienadzorowanego"
   ]
  }
 ],
 "metadata": {
  "language_info": {
   "name": "python"
  }
 },
 "nbformat": 4,
 "nbformat_minor": 2
}
