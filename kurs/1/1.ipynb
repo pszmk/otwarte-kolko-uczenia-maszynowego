{
 "cells": [
  {
   "cell_type": "markdown",
   "metadata": {},
   "source": [
    "### Referencje\n",
    "- [04 PyTorch tutorial - How do computational graphs and autograd in PyTorch work](https://www.youtube.com/watch?v=dEnUP6_kpeo)\n"
   ]
  },
  {
   "cell_type": "code",
   "execution_count": 1,
   "metadata": {},
   "outputs": [],
   "source": [
    "import torch"
   ]
  },
  {
   "cell_type": "code",
   "execution_count": 2,
   "metadata": {},
   "outputs": [],
   "source": [
    "from torchviz import make_dot  # do wizualizacji grafu obliczeń\n",
    "\n",
    "# import może nie zadziałać, jeśli nie zainstalowano pakietu torchviz (najprawdopodobniej można go zainstalować za pomocą pip install graphviz oraz pip install torchviz)\n",
    "# https://github.com/szagoruyko/pytorchviz"
   ]
  },
  {
   "cell_type": "markdown",
   "metadata": {},
   "source": [
    "- [ ] graf obliczeń\n",
    "- [ ] pochodna, pochodna cząstkowa, gradient\n",
    "    - [ ] funkcja pythonowa licząca gradient z mnożenia wektorów i dodania skalara\n",
    "    - [ ] to co wyzej dla wektora razy macierz\n",
    "    - [ ] funkcja pythonowa licząca gradient z potęg macierzy\n",
    "- [ ] propagacja wsteczna\n",
    "- [ ] pochodna złożenia funkcji\n",
    "- [ ] reguła łańcuchowa\n",
    "\n",
    "- [ ] aproksymacja funkcji - funkcja straty\n",
    "- [ ] gradient kierunkiem największego wzrostu\n",
    "- [ ] spadek wzdłóż gradientu w poroblemach wypukłych - wizualizacja procesu\n",
    "- [ ] optymalizacja - regresja liniowa\n",
    "- [ ] pytorch\n",
    "    - [ ] graf obliczeń wizualizacja\n",
    "    - [ ] przechowywanie gradientów w pytorch\n",
    "    - [ ] autograd\n",
    "    - [ ] wytrenowanie parametrów w grafie obliczeń przez spadek wzdóż gradientu (dodawanie, mnożenie, wykładnik potęgi)"
   ]
  },
  {
   "cell_type": "markdown",
   "metadata": {},
   "source": [
    "optymalizacja\n",
    "autograd: https://pytorch.org/tutorials/beginner/blitz/autograd_tutorial.html"
   ]
  },
  {
   "cell_type": "markdown",
   "metadata": {},
   "source": [
    "## 1. Graf obliczeń"
   ]
  },
  {
   "cell_type": "markdown",
   "metadata": {},
   "source": [
    "Obliczenia skłądające się na skomplikowaną funkcje niejednokronie możemy rozłożyć na prostsze kroki i ułatwić analizę przetwarzania wartości liczbowych dokonywanych przez skomplikowane funkcje.\n",
    "\n",
    "Przykładowo, dla funkcji $f(x) = (x + 2)^2$ i ustalnoego $x$ obliczenia możemy rozłożyć na dwa kroki:\n",
    "1. $g = x + 2$\n",
    "2. $h = g^2$\n",
    "\n",
    "Przedstwililiśmy funkcję $f(x)$ jako złożenie dwóch funkcji $g(x) = x + 2$ i $h(a) = g^2$ co oznacza, że użyliśmy wyniku jednej funkcji jako argumentu drugiej funkcji. W ten sposób możemy zdefiniować złożoną funkcję $f(x) = (h \\circ g)(x) = f(g(x))$ dla $f(x) = (x + 2)^2$.\n",
    "\n",
    "Zaprezentujmy powyższą funkcję w postaci grafu. Taki graf nazywamy grafem obliczeń (*eng. computational graph*)."
   ]
  },
  {
   "cell_type": "markdown",
   "metadata": {},
   "source": [
    "# [OBRAZEK] Z PRZYKŁADOWYM GRAFEM OBLICZEŃ WPRZÓD 1"
   ]
  },
  {
   "cell_type": "markdown",
   "metadata": {},
   "source": [
    "Ciąg obliczeń możemy rozłożyć na mniejsze kroki z różnym stopniem skomplikowania. W przypadku funkcji $f(x, y) = (x \\cdot (2y + 1))^2 + y$ możemy rozłożyć ją na następujące kroki:\n",
    "1. $g = x \\cdot (2y + 1)$\n",
    "2. $u = g^2 + y$\n",
    "\n",
    "lub bardziej szczegółowo:\n",
    "\n",
    "1. $p = 2y$\n",
    "2. $q = p + 1$\n",
    "3. $k = x \\cdot q$\n",
    "4. $l = k^2$\n",
    "5. $u = l + y$\n",
    "\n",
    "Zapiszmy jeszcze dla drugiego przypadku poszczególne funkcje które składają się na funkcję $f$:\n",
    "- $p: \\mathbb{R} \\rightarrow \\mathbb{R}, \\; p(y) = 2y$\n",
    "- $q: \\mathbb{R} \\rightarrow \\mathbb{R}, \\; q(p) = p + 1$\n",
    "- $k: \\mathbb{R^2} \\rightarrow \\mathbb{R}, \\; k(x, q) = x \\cdot q$\n",
    "- $l: \\mathbb{R} \\rightarrow \\mathbb{R}, \\; l(k) = k^2$\n",
    "- $u: \\mathbb{R^2} \\rightarrow \\mathbb{R}, \\; u(l, y) = l + y$\n",
    "\n",
    "Zauważmy, że nie możemy zapisać funkcji $f$ jako złożenie funkcji $p, q, k, l, u$ ponieważ funkcje $k$ i $u$ przyjmują dwa argumenty, które nie są zwracana prze poprzedzające je funkcje. W takim przypadku możemy zdefiniować nasze funkcje pośrednie nieco inaczej tak aby przekazywały dalej wszystkie potrzebne do dalszych obliczeń argumenty.\n",
    "\n",
    "Teraz rozłużmy funkcję $f$ na kolejne obliczenia tak aby można było ją zapisać jako złożenie kolejnych funkcji. W tym celu zdefiniujmy funkcje pośrednie następująco:\n",
    "- $p: \\mathbb{R^2} \\rightarrow \\mathbb{R^3}, \\; p(x, y) = \\mathbf{p} = (p_1, p_2, p_3) = (x, y, 2y)$\n",
    "- $q: \\mathbb{R^3} \\rightarrow \\mathbb{R^3}, \\; q(p_1, p_2) = \\mathbf{q} = (q_1, q_2, q_3) =  (p_1, p_2, p_3 + 1)$\n",
    "- $k: \\mathbb{R^3} \\rightarrow \\mathbb{R^2}, \\; k(q_1, q_2, q_3) = \\mathbf{k} = (k_1, k_2) = (q_2, q_1 \\cdot q_3)$\n",
    "- $l: \\mathbb{R^2} \\rightarrow \\mathbb{R^2}, \\; l(k_1, k_2) = \\mathbf{l} = (l_1, l_2) = (k_1, k_2^2)$\n",
    "- $u: \\mathbb{R^2} \\rightarrow \\mathbb{R}, \\; u(l_1, l_2) = l_1 + l_2$\n",
    "Taki zapis wygląda co prawda bardziej skomplikowanie, ale pozwala na zapisanie funkcji $f$ jako złożenie funkcji $p, q, k, l, u$. Porównajmy oba zapisy korzystając z grafów obliczeń."
   ]
  },
  {
   "cell_type": "markdown",
   "metadata": {},
   "source": [
    "# [OBRAZEK] Z PRZYKŁADOWYM GRAFEM OBLICZEŃ WPRZÓD 2"
   ]
  },
  {
   "cell_type": "markdown",
   "metadata": {},
   "source": [
    "Grafy obliczeń pozwalają na łatwiejsze zrozumienie złożonych obliczeń. Zauważmy jednak, że grafy te nie powinny mieć cykli, ponieważ wtedy wykonanie obliczeń nie byłoby możliwe."
   ]
  },
  {
   "cell_type": "markdown",
   "metadata": {},
   "source": [
    "# [OBRAZEK] Z PRZYKŁADOWYM GRAFEM OBLICZEŃ WPRZÓD 3"
   ]
  },
  {
   "cell_type": "markdown",
   "metadata": {},
   "source": [
    "**Ćwiczenie 1**\n",
    "Zapisać funkcję $f(x, y) = (3 x + y)^2 + y$ jako graf obliczeń."
   ]
  },
  {
   "cell_type": "markdown",
   "metadata": {},
   "source": [
    "**Ćwiczenie 2**\n",
    "Zapisać graf obliczeń dla funkcji przyjmującej wektor $\\mathbf{x} = \\begin{bmatrix} x_1 \\\\ x_2 \\\\ x_3 \\end{bmatrix}$ zdefiniowanej jako $f(\\mathbf{x})$ przy ustalonym wektorze $\\mathbf{a} = \\begin{bmatrix} -3 \\\\ 2 \\\\ 0 \\end{bmatrix}$. Podstaw w miejsce $x_1, x_2, x_3$ odpowiednio $-5, 11, 7$ i uzupełnij wartości w grafie obliczeń wynikami kalkulacji dla jego wierzchołków."
   ]
  },
  {
   "cell_type": "markdown",
   "metadata": {},
   "source": [
    "**Ćwiczenie 3**\n",
    "Zapisać graf obliczeń dla funkcji $\\sigma$ sigmoid (*eng. sigmoid*) zdefinowanej jako $\\sigma(x) = \\frac{1}{1 + e^{-x}}$."
   ]
  },
  {
   "cell_type": "markdown",
   "metadata": {},
   "source": [
    "**Ćwiczenie 4** Zapisać graf obliczeń dla funkcji tangens hiperboliczny $\\tanh$ zdefinowanej jako $\\tanh(x) = \\frac{e^x - e^{-x}}{e^x + e^{-x}}$ wyróżniając operacje: $e^x$, $e^{-x}, +, -, \\frac{\\cdot}{\\cdot}$."
   ]
  },
  {
   "cell_type": "markdown",
   "metadata": {},
   "source": [
    "**Ćwiczenie 5**\n",
    "Sprawdzić, że tangens hiperboliczny można przedstawić jako $\\tanh(x) = \\begin{bmatrix} 1 & -1\\end{bmatrix} \\times \\sigma \\left( x \\cdot \\begin{bmatrix} 2 \\\\ -2 \\end{bmatrix} \\right)$ gdzie $\\cdot$ oznacza mnożenie wektora przez skalar, $\\times$ mnożenie macierzy, a $\\sigma$ funkcję sigmoid aplikowaną do każdego elementu wektora oddzielnie (*eng. element-wise*). Zapisz odpowiedni graf obliczeń."
   ]
  },
  {
   "cell_type": "markdown",
   "metadata": {},
   "source": [
    "**Ćwiczenie 6**\n",
    "Zapisać graf obliczeń dla funkcji $f: \\mathbb{R^3} \\rightarrow \\mathbb{R^2}$ zdefiniowanej jako $f(\\mathbf{x}) = \\sigma(\\mathbf{W} \\mathbf{x} + \\mathbf{b})$ gdzie $\\mathbf{W} = \\begin{bmatrix} 1 & 2 & 3 \\\\ 4 & 5 & 6 \\end{bmatrix}$ i $\\mathbf{b} = \\begin{bmatrix} 1 \\\\ 2 \\end{bmatrix}$, a $\\sigma$ to funkcja sigmoid aplikowana dla każdego elementu wektora odzielnie (*eng. element-wise*)."
   ]
  },
  {
   "cell_type": "markdown",
   "metadata": {},
   "source": [
    "### Graf obliczeń w `torch`"
   ]
  },
  {
   "cell_type": "markdown",
   "metadata": {},
   "source": [
    "Pytorch automatycznie tworzy i przechowuje graf obliczeń dla każdego ciągu operacji wykonywanych na tensorach, dla których flaga `requires_grad` jest ustawiona na `True`.\n",
    "\n",
    "Zobaczmy jak wygląda graf obliczeń dla funkcji $f: \\mathbb{R^{3 \\times 2}} \\rightarrow \\mathbb{R^{3 \\times 1}}$ danej formułą $f(\\mathbf{X}) = \\sigma(\\mathbf{X} \\mathbf{W} + \\mathbf{b})$ gdzie $\\mathbf{X} \\in \\mathbb{R^{3 \\times 2}}$, $\\mathbf{W} \\in \\mathbb{R^{2 \\times 1}}$, $\\mathbf{b} \\in \\mathbb{R^{3 \\times 1}}$ oraz $\\sigma$ to funkcja sigmoid."
   ]
  },
  {
   "cell_type": "code",
   "execution_count": 3,
   "metadata": {},
   "outputs": [
    {
     "name": "stderr",
     "output_type": "stream",
     "text": [
      "/tmp/ipykernel_4002/1730553245.py:3: UserWarning: Failed to initialize NumPy: No module named 'numpy' (Triggered internally at ../torch/csrc/utils/tensor_numpy.cpp:84.)\n",
      "  X = torch.tensor([[1.0, 2.0], [3.0, 4.0], [5.0, 6.0]], requires_grad=True)\n"
     ]
    },
    {
     "data": {
      "image/svg+xml": [
       "<?xml version=\"1.0\" encoding=\"UTF-8\" standalone=\"no\"?>\n",
       "<!DOCTYPE svg PUBLIC \"-//W3C//DTD SVG 1.1//EN\"\n",
       " \"http://www.w3.org/Graphics/SVG/1.1/DTD/svg11.dtd\">\n",
       "<!-- Generated by graphviz version 2.43.0 (0)\n",
       " -->\n",
       "<!-- Title: %3 Pages: 1 -->\n",
       "<svg width=\"332pt\" height=\"335pt\"\n",
       " viewBox=\"0.00 0.00 332.00 335.00\" xmlns=\"http://www.w3.org/2000/svg\" xmlns:xlink=\"http://www.w3.org/1999/xlink\">\n",
       "<g id=\"graph0\" class=\"graph\" transform=\"scale(1 1) rotate(0) translate(4 331)\">\n",
       "<title>%3</title>\n",
       "<polygon fill=\"white\" stroke=\"transparent\" points=\"-4,4 -4,-331 328,-331 328,4 -4,4\"/>\n",
       "<!-- 137826567777696 -->\n",
       "<g id=\"node1\" class=\"node\">\n",
       "<title>137826567777696</title>\n",
       "<polygon fill=\"#caff70\" stroke=\"black\" points=\"248,-30 189,-30 189,0 248,0 248,-30\"/>\n",
       "<text text-anchor=\"middle\" x=\"218.5\" y=\"-18\" font-family=\"monospace\" font-size=\"10.00\">Y</text>\n",
       "<text text-anchor=\"middle\" x=\"218.5\" y=\"-7\" font-family=\"monospace\" font-size=\"10.00\"> (3, 1)</text>\n",
       "</g>\n",
       "<!-- 137826567668016 -->\n",
       "<g id=\"node2\" class=\"node\">\n",
       "<title>137826567668016</title>\n",
       "<polygon fill=\"lightgrey\" stroke=\"black\" points=\"275,-85 162,-85 162,-66 275,-66 275,-85\"/>\n",
       "<text text-anchor=\"middle\" x=\"218.5\" y=\"-73\" font-family=\"monospace\" font-size=\"10.00\">SigmoidBackward0</text>\n",
       "</g>\n",
       "<!-- 137826567668016&#45;&gt;137826567777696 -->\n",
       "<g id=\"edge9\" class=\"edge\">\n",
       "<title>137826567668016&#45;&gt;137826567777696</title>\n",
       "<path fill=\"none\" stroke=\"black\" d=\"M218.5,-65.87C218.5,-59.11 218.5,-49.35 218.5,-40.26\"/>\n",
       "<polygon fill=\"black\" stroke=\"black\" points=\"222,-40.11 218.5,-30.11 215,-40.11 222,-40.11\"/>\n",
       "</g>\n",
       "<!-- 137826712691680 -->\n",
       "<g id=\"node3\" class=\"node\">\n",
       "<title>137826712691680</title>\n",
       "<polygon fill=\"lightgrey\" stroke=\"black\" points=\"263,-140 174,-140 174,-121 263,-121 263,-140\"/>\n",
       "<text text-anchor=\"middle\" x=\"218.5\" y=\"-128\" font-family=\"monospace\" font-size=\"10.00\">AddBackward0</text>\n",
       "</g>\n",
       "<!-- 137826712691680&#45;&gt;137826567668016 -->\n",
       "<g id=\"edge1\" class=\"edge\">\n",
       "<title>137826712691680&#45;&gt;137826567668016</title>\n",
       "<path fill=\"none\" stroke=\"black\" d=\"M218.5,-120.75C218.5,-113.8 218.5,-103.85 218.5,-95.13\"/>\n",
       "<polygon fill=\"black\" stroke=\"black\" points=\"222,-95.09 218.5,-85.09 215,-95.09 222,-95.09\"/>\n",
       "</g>\n",
       "<!-- 137827046026416 -->\n",
       "<g id=\"node4\" class=\"node\">\n",
       "<title>137827046026416</title>\n",
       "<polygon fill=\"lightgrey\" stroke=\"black\" points=\"205,-195 122,-195 122,-176 205,-176 205,-195\"/>\n",
       "<text text-anchor=\"middle\" x=\"163.5\" y=\"-183\" font-family=\"monospace\" font-size=\"10.00\">MmBackward0</text>\n",
       "</g>\n",
       "<!-- 137827046026416&#45;&gt;137826712691680 -->\n",
       "<g id=\"edge2\" class=\"edge\">\n",
       "<title>137827046026416&#45;&gt;137826712691680</title>\n",
       "<path fill=\"none\" stroke=\"black\" d=\"M172.58,-175.75C180.59,-168.03 192.46,-156.6 202.12,-147.28\"/>\n",
       "<polygon fill=\"black\" stroke=\"black\" points=\"204.81,-149.55 209.59,-140.09 199.96,-144.51 204.81,-149.55\"/>\n",
       "</g>\n",
       "<!-- 137826567823296 -->\n",
       "<g id=\"node5\" class=\"node\">\n",
       "<title>137826567823296</title>\n",
       "<polygon fill=\"lightgrey\" stroke=\"black\" points=\"101,-255.5 0,-255.5 0,-236.5 101,-236.5 101,-255.5\"/>\n",
       "<text text-anchor=\"middle\" x=\"50.5\" y=\"-243.5\" font-family=\"monospace\" font-size=\"10.00\">AccumulateGrad</text>\n",
       "</g>\n",
       "<!-- 137826567823296&#45;&gt;137827046026416 -->\n",
       "<g id=\"edge3\" class=\"edge\">\n",
       "<title>137826567823296&#45;&gt;137827046026416</title>\n",
       "<path fill=\"none\" stroke=\"black\" d=\"M67.17,-236.37C85.78,-226.73 116.12,-211.03 137.78,-199.81\"/>\n",
       "<polygon fill=\"black\" stroke=\"black\" points=\"139.49,-202.87 146.76,-195.17 136.27,-196.66 139.49,-202.87\"/>\n",
       "</g>\n",
       "<!-- 137827044077200 -->\n",
       "<g id=\"node6\" class=\"node\">\n",
       "<title>137827044077200</title>\n",
       "<polygon fill=\"lightblue\" stroke=\"black\" points=\"80,-327 21,-327 21,-297 80,-297 80,-327\"/>\n",
       "<text text-anchor=\"middle\" x=\"50.5\" y=\"-315\" font-family=\"monospace\" font-size=\"10.00\">X</text>\n",
       "<text text-anchor=\"middle\" x=\"50.5\" y=\"-304\" font-family=\"monospace\" font-size=\"10.00\"> (3, 2)</text>\n",
       "</g>\n",
       "<!-- 137827044077200&#45;&gt;137826567823296 -->\n",
       "<g id=\"edge4\" class=\"edge\">\n",
       "<title>137827044077200&#45;&gt;137826567823296</title>\n",
       "<path fill=\"none\" stroke=\"black\" d=\"M50.5,-296.8C50.5,-287.7 50.5,-275.79 50.5,-265.9\"/>\n",
       "<polygon fill=\"black\" stroke=\"black\" points=\"54,-265.84 50.5,-255.84 47,-265.84 54,-265.84\"/>\n",
       "</g>\n",
       "<!-- 137826567822672 -->\n",
       "<g id=\"node7\" class=\"node\">\n",
       "<title>137826567822672</title>\n",
       "<polygon fill=\"lightgrey\" stroke=\"black\" points=\"220,-255.5 119,-255.5 119,-236.5 220,-236.5 220,-255.5\"/>\n",
       "<text text-anchor=\"middle\" x=\"169.5\" y=\"-243.5\" font-family=\"monospace\" font-size=\"10.00\">AccumulateGrad</text>\n",
       "</g>\n",
       "<!-- 137826567822672&#45;&gt;137827046026416 -->\n",
       "<g id=\"edge5\" class=\"edge\">\n",
       "<title>137826567822672&#45;&gt;137827046026416</title>\n",
       "<path fill=\"none\" stroke=\"black\" d=\"M168.61,-236.37C167.78,-228.25 166.51,-215.81 165.44,-205.39\"/>\n",
       "<polygon fill=\"black\" stroke=\"black\" points=\"168.89,-204.76 164.39,-195.17 161.93,-205.47 168.89,-204.76\"/>\n",
       "</g>\n",
       "<!-- 137826567777376 -->\n",
       "<g id=\"node8\" class=\"node\">\n",
       "<title>137826567777376</title>\n",
       "<polygon fill=\"lightblue\" stroke=\"black\" points=\"199,-327 140,-327 140,-297 199,-297 199,-327\"/>\n",
       "<text text-anchor=\"middle\" x=\"169.5\" y=\"-315\" font-family=\"monospace\" font-size=\"10.00\">W</text>\n",
       "<text text-anchor=\"middle\" x=\"169.5\" y=\"-304\" font-family=\"monospace\" font-size=\"10.00\"> (2, 1)</text>\n",
       "</g>\n",
       "<!-- 137826567777376&#45;&gt;137826567822672 -->\n",
       "<g id=\"edge6\" class=\"edge\">\n",
       "<title>137826567777376&#45;&gt;137826567822672</title>\n",
       "<path fill=\"none\" stroke=\"black\" d=\"M169.5,-296.8C169.5,-287.7 169.5,-275.79 169.5,-265.9\"/>\n",
       "<polygon fill=\"black\" stroke=\"black\" points=\"173,-265.84 169.5,-255.84 166,-265.84 173,-265.84\"/>\n",
       "</g>\n",
       "<!-- 137827066261424 -->\n",
       "<g id=\"node9\" class=\"node\">\n",
       "<title>137827066261424</title>\n",
       "<polygon fill=\"lightgrey\" stroke=\"black\" points=\"324,-195 223,-195 223,-176 324,-176 324,-195\"/>\n",
       "<text text-anchor=\"middle\" x=\"273.5\" y=\"-183\" font-family=\"monospace\" font-size=\"10.00\">AccumulateGrad</text>\n",
       "</g>\n",
       "<!-- 137827066261424&#45;&gt;137826712691680 -->\n",
       "<g id=\"edge7\" class=\"edge\">\n",
       "<title>137827066261424&#45;&gt;137826712691680</title>\n",
       "<path fill=\"none\" stroke=\"black\" d=\"M264.42,-175.75C256.41,-168.03 244.54,-156.6 234.88,-147.28\"/>\n",
       "<polygon fill=\"black\" stroke=\"black\" points=\"237.04,-144.51 227.41,-140.09 232.19,-149.55 237.04,-144.51\"/>\n",
       "</g>\n",
       "<!-- 137826567775296 -->\n",
       "<g id=\"node10\" class=\"node\">\n",
       "<title>137826567775296</title>\n",
       "<polygon fill=\"lightblue\" stroke=\"black\" points=\"303,-261 244,-261 244,-231 303,-231 303,-261\"/>\n",
       "<text text-anchor=\"middle\" x=\"273.5\" y=\"-249\" font-family=\"monospace\" font-size=\"10.00\">b</text>\n",
       "<text text-anchor=\"middle\" x=\"273.5\" y=\"-238\" font-family=\"monospace\" font-size=\"10.00\"> (3, 1)</text>\n",
       "</g>\n",
       "<!-- 137826567775296&#45;&gt;137827066261424 -->\n",
       "<g id=\"edge8\" class=\"edge\">\n",
       "<title>137826567775296&#45;&gt;137827066261424</title>\n",
       "<path fill=\"none\" stroke=\"black\" d=\"M273.5,-230.84C273.5,-223.21 273.5,-213.7 273.5,-205.45\"/>\n",
       "<polygon fill=\"black\" stroke=\"black\" points=\"277,-205.27 273.5,-195.27 270,-205.27 277,-205.27\"/>\n",
       "</g>\n",
       "</g>\n",
       "</svg>\n"
      ],
      "text/plain": [
       "<graphviz.graphs.Digraph at 0x7d5a3f99f4d0>"
      ]
     },
     "execution_count": 3,
     "metadata": {},
     "output_type": "execute_result"
    }
   ],
   "source": [
    "import torch.nn.functional as F\n",
    "\n",
    "X = torch.tensor([[1.0, 2.0], [3.0, 4.0], [5.0, 6.0]], requires_grad=True)\n",
    "W = torch.tensor([[1.0], [2.0]], requires_grad=True)\n",
    "b = torch.tensor([[1.0], [2.0], [3.0]], requires_grad=True)\n",
    "\n",
    "Y = F.sigmoid(X @ W + b)\n",
    "make_dot(Y, params={\"X\": X, \"W\": W, \"b\": b, \"Y\": Y})"
   ]
  },
  {
   "cell_type": "markdown",
   "metadata": {},
   "source": [
    "Przyjżyjmy się notacji używanej na grafie obliczeń. Po pierwsze wyrżnijmy tensory wymagające obliczenia gradientu (`requires_grad=True`) oznaczone kolorami niebieskim i zielonym. Na grfie wyświetnale są ich nazwy ponieważ dodaliśmy dodatkowy arguement `params={\"X\": X, \"W\": W, \"b\": b, \"Y\": Y}`. Szare bloki oznaczają wyniki operacji przeprowadzanych na tensorach, którch wskazują na nie strzałkami. Powatarzające się operacje są numerowane w celu ich rozróżnienia (poza `AccumulateGrad`). Mamy do czynienia z następującymi wynikami operacji w danym wyżej grafie:\n",
    "- `AccumulateGrad` - w odpowiednim rejestrze tensora przechowywane są wartości gradientów (zaraz dowiemy się lepiej czym są gradienty)\n",
    "- `MmBackward0` - mnożenie macierzy\n",
    "- `AddBackward0` - dodawanie macierzy\n",
    "- `SigmoidBackward0` - zastosowanie funkcji sigmoid\n",
    "\n",
    "Hmm. Dlaczego wyszstkie nazwy operacji kończą się na `Backward0`? `Backward0` oznacza, że jest to operacja związana z obliczaniem gradientów. Wszystkie operacje w Pytorch są zdefiniowane w taki sposób, że potrafią obliczać gradienty. W zasadzie właśnie dla tych gradientów interesujemy się grafem obliczeń. W tym celu Pytorch wykorzystuje mechanizmy automatycznej różniczkowania (*eng. automatic differentiation*). O tym jak to działa dowiemy się w kolejnym punkcie."
   ]
  },
  {
   "cell_type": "markdown",
   "metadata": {},
   "source": [
    "Warto zwrócić uwagę, że w Pytorch nie musimy definiować funkcji pośrednich tak jak w poprzednich przykładach. Wystarczy zdefiniować funkcję $f$ i Pytorch sam stworzy graf obliczeń. Być może nie robi to wrażenia dla tak prostego przypadku, dla którego graf obliczeń wynika wprost z zapisu obliczeń, ale wystarczy, że wykorzystamy interfejs Pytorch do zapisu nawet bardzo złożonego ciągu operacji matemetycznych będziemy automatycznie mieli dostęp do grafu obliczeń.\n",
    "\n",
    "Być może nie wiadomo jeszcze po co właściwie jest nam ten cały graf obliczeń. W dalszej części notatnika zobaczymy, że graf obliczeń jest kluczowym elementem w procesie uczenia maszynowego, a w szczególności w procesie optymalizacji w uczeniu głębokim (*eng. deep learning*)."
   ]
  },
  {
   "cell_type": "markdown",
   "metadata": {},
   "source": [
    "**Ćwiczenie 7**\n",
    "Sprawdź co się stanie jeżeli pozmieniasz wartości flagi `requires_grad` dla tensorów $\\mathbf{X}, \\mathbf{W}, \\mathbf{b}$. Jeżeli tensor nie posiada flagi `requires_grad` ustawionej na `True` to `torch` nie będzie przechowywał informacji o operacji `AccumulateGrad` dla tego tensora."
   ]
  },
  {
   "cell_type": "markdown",
   "metadata": {},
   "source": [
    "W poprzednim przykładzie zefiniowaliśmy jedną z możliwych formulacji tzw. warstwy (*eng. layer*) w sieci neuronowej (*eng. neural network*). Taką warstwę można określić jako warstwę liniową z funkcją aktywacji sigmoid (*eng. linear layer with sigmoid activation function*)."
   ]
  },
  {
   "cell_type": "markdown",
   "metadata": {},
   "source": [
    "**Ćwiczenie 8**\n",
    "Stwórz trzywarstwową sięc neuronową składając trzy warstwy liniowe z funkcją aktywacji sigmoid. Inczej mówiąc połącz ze sobą trzy warstwy liniowe z funkcją aktywacji sigmoid w taki sposób, że wyjście jednej warstwy jest wejściem dla kolejnej warstwy. Zapisz graf obliczeń dla takiej sieci neuronowej. Dodaj indeksowanie do nazw tzw. macierzy wag (*eng. weight matrices*) $\\mathbf{W}$ i wektorów biasów (*eng. biases*) $\\mathbf{b}$."
   ]
  },
  {
   "cell_type": "markdown",
   "metadata": {},
   "source": [
    "## 2. Pochoodna, pochodna cząstkowa, gradient "
   ]
  },
  {
   "cell_type": "markdown",
   "metadata": {},
   "source": [
    "Pochoodna (*eng. derivative*) funkcji jednej zmiennej rzeczywistej $f: \\mathbb{R} \\rightarrow \\mathbb{R}$ w punkcie $x_0$ to granica ilorazu różnicowego funkcji $f$ w punkcie $x_0$:\n",
    "$$f'(x_0) = \\frac{df}{dx} (x_0) = \\lim_{h \\to 0} \\frac{f(x_0 + h) - f(x_0)}{h}$$\n",
    "\n",
    "Warto zwrócić uwagę, że jeżeli dany wyżej wzór nie daje sensownego wyniku to mówimy, że funkcja $f$ nie jest różniczkowalna w punkcie $x_0$. Wtedy pochodna funkcji $f$ w punkcie $x_0$ nie istnieje. Dla przykładu funkcja wartość bezwzględna (*eng. absolute value*) $f(x) = |x|$ nie jest różniczkowalna (*eng. differentiable*) w punkcie $x = 0$ ponieważ $\\lim_{h \\to 0^-} \\frac{|0 + h| - |0|}{h} = -1$ oraz $\\lim_{h \\to 0^+} \\frac{|h|}{h} = 1$, a więc granica lewostronna jest różna od prawostronnej i w konskekwencji pochodna nie istnieje. Dlatego jeżeli chcemy korzystać z pochodnych to musimy upewnić się, że funkcja jest różniczkowalna w punkcie, w którym chcemy obliczyć pochodną.\n"
   ]
  },
  {
   "cell_type": "markdown",
   "metadata": {},
   "source": [
    "### Interpretacja geometryczna pochodnej\n",
    "\n",
    "Pochodna funkcji jednej zmiennej rzeczywistej w punkcie $x_0$ to nachylenie stycznej do wykresu funkcji $f$ w punkcie $(x_0, f(x_0))$. Możemy mówić, że w takim razie pochodna pozwala lokalnie przybliżyć funkcję $f$ za pomocą funkcji liniowej. Wzór na równanie stycznej do wykresu funkcji $f$ w punkcie $(x_0, f(x_0))$ to:\n",
    "$$y = f(x_0) + f'(x_0) (x - x_0)$$"
   ]
  },
  {
   "cell_type": "markdown",
   "metadata": {},
   "source": [
    "**Ćwiczenie 9**\n",
    "Znajdź z definicji pochodną funkcji $f(x) = x^2$ w punkcie $x_0 = 3$. Następnie narysuj wykres funkcji $f$ oraz styczną do wykresu funkcji $f$ w punkcie $(3, 9)$."
   ]
  },
  {
   "cell_type": "markdown",
   "metadata": {},
   "source": [
    "# OBRAZEK Z WYKRESEM FUNKCJI I STYCZNEJ - stopniowe zmniejszanie h"
   ]
  },
  {
   "cell_type": "markdown",
   "metadata": {},
   "source": [
    "# OBRAZEK Z WYKRESEM FUNKCJI I STYCZNEJ - lupka wokół punktu"
   ]
  },
  {
   "cell_type": "markdown",
   "metadata": {},
   "source": [
    "W `torch` do obliczania pochodnej funkcji jednej zmiennej rzeczywistej w punkcie możemy skorzystać z metody `backward` dla tensora, który przechowuje wartość funkcji. Obliczenie dla funkcji $f(x) = x^2$ w punkcie $x_0 = 3$ wygląda następująco:\n",
    "\n",
    "```python\n",
    "x = torch.tensor(3., requires_grad=True) # tensor z flagą requires_grad=True, kropka po 3 gwarantuje typ zmiennoprzecinkowy tensora (do osiągnięcia przez dtype=torch.float32)\n",
    "f = x**2                                # obliczenie wartości funkcji\n",
    "f.backward()                            # obliczenie pochodnej i zapisanie jej w x.grad\n",
    "print(x.grad)                           # wyświetlenie pochodnej zapisanej w x.grad\n",
    "```"
   ]
  },
  {
   "cell_type": "markdown",
   "metadata": {},
   "source": [
    "**Ćwiczenie 10**\n",
    "Dla funkcji $f(x) = \\sin(x) + 2\\sigma(x)^{x^3} - 3\\ln(x) + 1$ narysuj graf obliczeń za pomocą `make_dot`. w punkcie $x_0 = 2$ wykorzystując `torch`, gdzie $\\sigma$ to funkcja sigmoid, a $\\ln$ logarytm naturalny. Aby wynik `make_dot` był czytelny zastosuj odpowiednie nazwy dla tensorów oraz wywołaj na niej `display()` aby wyświetlić graf obliczeń. Następnie oblicz pochodną funkcji $f$ w punkcie $x_0 = 2$."
   ]
  },
  {
   "cell_type": "code",
   "execution_count": 12,
   "metadata": {},
   "outputs": [
    {
     "data": {
      "image/svg+xml": [
       "<?xml version=\"1.0\" encoding=\"UTF-8\" standalone=\"no\"?>\n",
       "<!DOCTYPE svg PUBLIC \"-//W3C//DTD SVG 1.1//EN\"\n",
       " \"http://www.w3.org/Graphics/SVG/1.1/DTD/svg11.dtd\">\n",
       "<!-- Generated by graphviz version 2.43.0 (0)\n",
       " -->\n",
       "<!-- Title: %3 Pages: 1 -->\n",
       "<svg width=\"360pt\" height=\"489pt\"\n",
       " viewBox=\"0.00 0.00 360.00 489.00\" xmlns=\"http://www.w3.org/2000/svg\" xmlns:xlink=\"http://www.w3.org/1999/xlink\">\n",
       "<g id=\"graph0\" class=\"graph\" transform=\"scale(1 1) rotate(0) translate(4 485)\">\n",
       "<title>%3</title>\n",
       "<polygon fill=\"white\" stroke=\"transparent\" points=\"-4,4 -4,-485 356,-485 356,4 -4,4\"/>\n",
       "<!-- 137826547786816 -->\n",
       "<g id=\"node1\" class=\"node\">\n",
       "<title>137826547786816</title>\n",
       "<polygon fill=\"#caff70\" stroke=\"black\" points=\"237.5,-30 183.5,-30 183.5,0 237.5,0 237.5,-30\"/>\n",
       "<text text-anchor=\"middle\" x=\"210.5\" y=\"-18\" font-family=\"monospace\" font-size=\"10.00\">k</text>\n",
       "<text text-anchor=\"middle\" x=\"210.5\" y=\"-7\" font-family=\"monospace\" font-size=\"10.00\"> (1)</text>\n",
       "</g>\n",
       "<!-- 137826566782736 -->\n",
       "<g id=\"node2\" class=\"node\">\n",
       "<title>137826566782736</title>\n",
       "<polygon fill=\"lightgrey\" stroke=\"black\" points=\"255,-85 166,-85 166,-66 255,-66 255,-85\"/>\n",
       "<text text-anchor=\"middle\" x=\"210.5\" y=\"-73\" font-family=\"monospace\" font-size=\"10.00\">AddBackward0</text>\n",
       "</g>\n",
       "<!-- 137826566782736&#45;&gt;137826547786816 -->\n",
       "<g id=\"edge15\" class=\"edge\">\n",
       "<title>137826566782736&#45;&gt;137826547786816</title>\n",
       "<path fill=\"none\" stroke=\"black\" d=\"M210.5,-65.87C210.5,-59.11 210.5,-49.35 210.5,-40.26\"/>\n",
       "<polygon fill=\"black\" stroke=\"black\" points=\"214,-40.11 210.5,-30.11 207,-40.11 214,-40.11\"/>\n",
       "</g>\n",
       "<!-- 137826566779952 -->\n",
       "<g id=\"node3\" class=\"node\">\n",
       "<title>137826566779952</title>\n",
       "<polygon fill=\"lightgrey\" stroke=\"black\" points=\"255,-140 166,-140 166,-121 255,-121 255,-140\"/>\n",
       "<text text-anchor=\"middle\" x=\"210.5\" y=\"-128\" font-family=\"monospace\" font-size=\"10.00\">SubBackward0</text>\n",
       "</g>\n",
       "<!-- 137826566779952&#45;&gt;137826566782736 -->\n",
       "<g id=\"edge1\" class=\"edge\">\n",
       "<title>137826566779952&#45;&gt;137826566782736</title>\n",
       "<path fill=\"none\" stroke=\"black\" d=\"M210.5,-120.75C210.5,-113.8 210.5,-103.85 210.5,-95.13\"/>\n",
       "<polygon fill=\"black\" stroke=\"black\" points=\"214,-95.09 210.5,-85.09 207,-95.09 214,-95.09\"/>\n",
       "</g>\n",
       "<!-- 137826566767568 -->\n",
       "<g id=\"node4\" class=\"node\">\n",
       "<title>137826566767568</title>\n",
       "<polygon fill=\"lightgrey\" stroke=\"black\" points=\"202,-195 113,-195 113,-176 202,-176 202,-195\"/>\n",
       "<text text-anchor=\"middle\" x=\"157.5\" y=\"-183\" font-family=\"monospace\" font-size=\"10.00\">AddBackward0</text>\n",
       "</g>\n",
       "<!-- 137826566767568&#45;&gt;137826566779952 -->\n",
       "<g id=\"edge2\" class=\"edge\">\n",
       "<title>137826566767568&#45;&gt;137826566779952</title>\n",
       "<path fill=\"none\" stroke=\"black\" d=\"M166.25,-175.75C173.97,-168.03 185.4,-156.6 194.72,-147.28\"/>\n",
       "<polygon fill=\"black\" stroke=\"black\" points=\"197.31,-149.64 201.91,-140.09 192.36,-144.69 197.31,-149.64\"/>\n",
       "</g>\n",
       "<!-- 137826566771264 -->\n",
       "<g id=\"node5\" class=\"node\">\n",
       "<title>137826566771264</title>\n",
       "<polygon fill=\"lightgrey\" stroke=\"black\" points=\"89,-250 0,-250 0,-231 89,-231 89,-250\"/>\n",
       "<text text-anchor=\"middle\" x=\"44.5\" y=\"-238\" font-family=\"monospace\" font-size=\"10.00\">SinBackward0</text>\n",
       "</g>\n",
       "<!-- 137826566771264&#45;&gt;137826566767568 -->\n",
       "<g id=\"edge3\" class=\"edge\">\n",
       "<title>137826566771264&#45;&gt;137826566767568</title>\n",
       "<path fill=\"none\" stroke=\"black\" d=\"M62.66,-230.98C80.75,-222.5 108.78,-209.35 129.69,-199.54\"/>\n",
       "<polygon fill=\"black\" stroke=\"black\" points=\"131.45,-202.59 139.01,-195.17 128.47,-196.25 131.45,-202.59\"/>\n",
       "</g>\n",
       "<!-- 137826566781200 -->\n",
       "<g id=\"node6\" class=\"node\">\n",
       "<title>137826566781200</title>\n",
       "<polygon fill=\"lightgrey\" stroke=\"black\" points=\"191,-415 90,-415 90,-396 191,-396 191,-415\"/>\n",
       "<text text-anchor=\"middle\" x=\"140.5\" y=\"-403\" font-family=\"monospace\" font-size=\"10.00\">AccumulateGrad</text>\n",
       "</g>\n",
       "<!-- 137826566781200&#45;&gt;137826566771264 -->\n",
       "<g id=\"edge4\" class=\"edge\">\n",
       "<title>137826566781200&#45;&gt;137826566771264</title>\n",
       "<path fill=\"none\" stroke=\"black\" d=\"M89.8,-400.14C63.02,-394.96 32.3,-383.81 15.5,-360 -6.38,-328.98 16.59,-283.32 32.33,-258.72\"/>\n",
       "<polygon fill=\"black\" stroke=\"black\" points=\"35.44,-260.37 38.1,-250.12 29.62,-256.47 35.44,-260.37\"/>\n",
       "</g>\n",
       "<!-- 137826566491728 -->\n",
       "<g id=\"node10\" class=\"node\">\n",
       "<title>137826566491728</title>\n",
       "<polygon fill=\"lightgrey\" stroke=\"black\" points=\"138,-360 25,-360 25,-341 138,-341 138,-360\"/>\n",
       "<text text-anchor=\"middle\" x=\"81.5\" y=\"-348\" font-family=\"monospace\" font-size=\"10.00\">SigmoidBackward0</text>\n",
       "</g>\n",
       "<!-- 137826566781200&#45;&gt;137826566491728 -->\n",
       "<g id=\"edge9\" class=\"edge\">\n",
       "<title>137826566781200&#45;&gt;137826566491728</title>\n",
       "<path fill=\"none\" stroke=\"black\" d=\"M131.02,-395.98C122.3,-388.15 109.16,-376.34 98.6,-366.86\"/>\n",
       "<polygon fill=\"black\" stroke=\"black\" points=\"100.93,-364.25 91.15,-360.17 96.25,-369.46 100.93,-364.25\"/>\n",
       "</g>\n",
       "<!-- 137826714560032 -->\n",
       "<g id=\"node11\" class=\"node\">\n",
       "<title>137826714560032</title>\n",
       "<polygon fill=\"lightgrey\" stroke=\"black\" points=\"245,-360 156,-360 156,-341 245,-341 245,-360\"/>\n",
       "<text text-anchor=\"middle\" x=\"200.5\" y=\"-348\" font-family=\"monospace\" font-size=\"10.00\">PowBackward0</text>\n",
       "</g>\n",
       "<!-- 137826566781200&#45;&gt;137826714560032 -->\n",
       "<g id=\"edge11\" class=\"edge\">\n",
       "<title>137826566781200&#45;&gt;137826714560032</title>\n",
       "<path fill=\"none\" stroke=\"black\" d=\"M150.14,-395.98C159.01,-388.15 172.37,-376.34 183.11,-366.86\"/>\n",
       "<polygon fill=\"black\" stroke=\"black\" points=\"185.51,-369.41 190.68,-360.17 180.87,-364.17 185.51,-369.41\"/>\n",
       "</g>\n",
       "<!-- 137826566781584 -->\n",
       "<g id=\"node13\" class=\"node\">\n",
       "<title>137826566781584</title>\n",
       "<polygon fill=\"lightgrey\" stroke=\"black\" points=\"352,-360 263,-360 263,-341 352,-341 352,-360\"/>\n",
       "<text text-anchor=\"middle\" x=\"307.5\" y=\"-348\" font-family=\"monospace\" font-size=\"10.00\">LogBackward0</text>\n",
       "</g>\n",
       "<!-- 137826566781200&#45;&gt;137826566781584 -->\n",
       "<g id=\"edge14\" class=\"edge\">\n",
       "<title>137826566781200&#45;&gt;137826566781584</title>\n",
       "<path fill=\"none\" stroke=\"black\" d=\"M167.33,-395.98C195.37,-387.09 239.55,-373.07 270.8,-363.15\"/>\n",
       "<polygon fill=\"black\" stroke=\"black\" points=\"271.99,-366.44 280.46,-360.08 269.87,-359.77 271.99,-366.44\"/>\n",
       "</g>\n",
       "<!-- 137826547786736 -->\n",
       "<g id=\"node7\" class=\"node\">\n",
       "<title>137826547786736</title>\n",
       "<polygon fill=\"lightblue\" stroke=\"black\" points=\"167.5,-481 113.5,-481 113.5,-451 167.5,-451 167.5,-481\"/>\n",
       "<text text-anchor=\"middle\" x=\"140.5\" y=\"-469\" font-family=\"monospace\" font-size=\"10.00\">x</text>\n",
       "<text text-anchor=\"middle\" x=\"140.5\" y=\"-458\" font-family=\"monospace\" font-size=\"10.00\"> (1)</text>\n",
       "</g>\n",
       "<!-- 137826547786736&#45;&gt;137826566781200 -->\n",
       "<g id=\"edge5\" class=\"edge\">\n",
       "<title>137826547786736&#45;&gt;137826566781200</title>\n",
       "<path fill=\"none\" stroke=\"black\" d=\"M140.5,-450.84C140.5,-443.21 140.5,-433.7 140.5,-425.45\"/>\n",
       "<polygon fill=\"black\" stroke=\"black\" points=\"144,-425.27 140.5,-415.27 137,-425.27 144,-425.27\"/>\n",
       "</g>\n",
       "<!-- 137826566776976 -->\n",
       "<g id=\"node8\" class=\"node\">\n",
       "<title>137826566776976</title>\n",
       "<polygon fill=\"lightgrey\" stroke=\"black\" points=\"202,-250 113,-250 113,-231 202,-231 202,-250\"/>\n",
       "<text text-anchor=\"middle\" x=\"157.5\" y=\"-238\" font-family=\"monospace\" font-size=\"10.00\">MulBackward0</text>\n",
       "</g>\n",
       "<!-- 137826566776976&#45;&gt;137826566767568 -->\n",
       "<g id=\"edge6\" class=\"edge\">\n",
       "<title>137826566776976&#45;&gt;137826566767568</title>\n",
       "<path fill=\"none\" stroke=\"black\" d=\"M157.5,-230.75C157.5,-223.8 157.5,-213.85 157.5,-205.13\"/>\n",
       "<polygon fill=\"black\" stroke=\"black\" points=\"161,-205.09 157.5,-195.09 154,-205.09 161,-205.09\"/>\n",
       "</g>\n",
       "<!-- 137826566781008 -->\n",
       "<g id=\"node9\" class=\"node\">\n",
       "<title>137826566781008</title>\n",
       "<polygon fill=\"lightgrey\" stroke=\"black\" points=\"202,-305 113,-305 113,-286 202,-286 202,-305\"/>\n",
       "<text text-anchor=\"middle\" x=\"157.5\" y=\"-293\" font-family=\"monospace\" font-size=\"10.00\">PowBackward1</text>\n",
       "</g>\n",
       "<!-- 137826566781008&#45;&gt;137826566776976 -->\n",
       "<g id=\"edge7\" class=\"edge\">\n",
       "<title>137826566781008&#45;&gt;137826566776976</title>\n",
       "<path fill=\"none\" stroke=\"black\" d=\"M157.5,-285.75C157.5,-278.8 157.5,-268.85 157.5,-260.13\"/>\n",
       "<polygon fill=\"black\" stroke=\"black\" points=\"161,-260.09 157.5,-250.09 154,-260.09 161,-260.09\"/>\n",
       "</g>\n",
       "<!-- 137826566491728&#45;&gt;137826566781008 -->\n",
       "<g id=\"edge8\" class=\"edge\">\n",
       "<title>137826566491728&#45;&gt;137826566781008</title>\n",
       "<path fill=\"none\" stroke=\"black\" d=\"M93.71,-340.98C105.28,-332.92 122.88,-320.65 136.66,-311.03\"/>\n",
       "<polygon fill=\"black\" stroke=\"black\" points=\"138.87,-313.76 145.07,-305.17 134.86,-308.02 138.87,-313.76\"/>\n",
       "</g>\n",
       "<!-- 137826714560032&#45;&gt;137826566781008 -->\n",
       "<g id=\"edge10\" class=\"edge\">\n",
       "<title>137826714560032&#45;&gt;137826566781008</title>\n",
       "<path fill=\"none\" stroke=\"black\" d=\"M193.4,-340.75C187.33,-333.26 178.41,-322.28 170.99,-313.13\"/>\n",
       "<polygon fill=\"black\" stroke=\"black\" points=\"173.49,-310.65 164.47,-305.09 168.05,-315.06 173.49,-310.65\"/>\n",
       "</g>\n",
       "<!-- 137826566773040 -->\n",
       "<g id=\"node12\" class=\"node\">\n",
       "<title>137826566773040</title>\n",
       "<polygon fill=\"lightgrey\" stroke=\"black\" points=\"321,-195 232,-195 232,-176 321,-176 321,-195\"/>\n",
       "<text text-anchor=\"middle\" x=\"276.5\" y=\"-183\" font-family=\"monospace\" font-size=\"10.00\">MulBackward0</text>\n",
       "</g>\n",
       "<!-- 137826566773040&#45;&gt;137826566779952 -->\n",
       "<g id=\"edge12\" class=\"edge\">\n",
       "<title>137826566773040&#45;&gt;137826566779952</title>\n",
       "<path fill=\"none\" stroke=\"black\" d=\"M265.9,-175.98C256.04,-168.07 241.15,-156.11 229.28,-146.58\"/>\n",
       "<polygon fill=\"black\" stroke=\"black\" points=\"231.29,-143.7 221.3,-140.17 226.9,-149.16 231.29,-143.7\"/>\n",
       "</g>\n",
       "<!-- 137826566781584&#45;&gt;137826566773040 -->\n",
       "<g id=\"edge13\" class=\"edge\">\n",
       "<title>137826566781584&#45;&gt;137826566773040</title>\n",
       "<path fill=\"none\" stroke=\"black\" d=\"M305.83,-340.74C300.98,-315.2 286.76,-240.43 280.06,-205.23\"/>\n",
       "<polygon fill=\"black\" stroke=\"black\" points=\"283.48,-204.48 278.17,-195.31 276.6,-205.78 283.48,-204.48\"/>\n",
       "</g>\n",
       "</g>\n",
       "</svg>\n"
      ],
      "text/plain": [
       "<graphviz.graphs.Digraph at 0x7d5a3f8d9c40>"
      ]
     },
     "metadata": {},
     "output_type": "display_data"
    },
    {
     "name": "stdout",
     "output_type": "stream",
     "text": [
      "tensor([-2.3288])\n"
     ]
    }
   ],
   "source": [
    "# TODO - begin\n",
    "\n",
    "# TODO - end"
   ]
  },
  {
   "cell_type": "markdown",
   "metadata": {},
   "source": [
    "W poprzednim ćwiczeniu zobaczyliśmy, że pochodną można liczyć dla złożonych funkcji. Jak jednak `torch` radzi sobie z obliczaniem pochodnych dla tak na pozór nieprzyjemnych funkcji? Nie jest taki mądry jak się może wydawać. Korzysta po prostu z reguły łańcuchowej (*eng. chain rule*)."
   ]
  },
  {
   "cell_type": "markdown",
   "metadata": {},
   "source": [
    "Pochodna złożenia funkcji (*eng. derivative of a composition of functions*) to pochodna funkcji złożonej $f(g(x))$ w punkcie $x_0$:\n",
    "$$\\frac{d}{dx} f(g(x)) (x_0) = f'(g(x_0)) \\cdot g'(x_0)$$\n"
   ]
  },
  {
   "cell_type": "markdown",
   "metadata": {},
   "source": [
    "Pochodna cząstkowa (*eng. partial derivative*) funkcji wielu zmiennych rzeczywistych $f: \\mathbb{R^n} \\rightarrow \\mathbb{R}$ po zmiennej $x_i$ w punkcie $\\mathbf{x}_0$ to granica ilorazu różnicowego funkcji $f$ w punkcie $\\mathbf{x}_0$:\n",
    "$$\\frac{\\partial f}{\\partial x_i} (\\mathbf{x}_0) = \\lim_{h \\to 0} \\frac{f(\\mathbf{x}_0 + h \\mathbf{e}_i) - f(\\mathbf{x}_0)}{h}$$\n",
    "gdzie $\\mathbf{e}_i$ to wektor jednostkowy w kierunku $i$-tej współrzędnej."
   ]
  }
 ],
 "metadata": {
  "kernelspec": {
   "display_name": ".venv",
   "language": "python",
   "name": "python3"
  },
  "language_info": {
   "codemirror_mode": {
    "name": "ipython",
    "version": 3
   },
   "file_extension": ".py",
   "mimetype": "text/x-python",
   "name": "python",
   "nbconvert_exporter": "python",
   "pygments_lexer": "ipython3",
   "version": "3.12.3"
  }
 },
 "nbformat": 4,
 "nbformat_minor": 2
}
