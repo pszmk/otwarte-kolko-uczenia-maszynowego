{
 "cells": [
  {
   "cell_type": "markdown",
   "metadata": {},
   "source": [
    "- [ ] wizualizacja trenowania hiperpłaszczyzny"
   ]
  },
  {
   "cell_type": "markdown",
   "metadata": {},
   "source": [
    "- regresja (np. Boston, diabetes)\n",
    "- klasyfikacja (np. Iris)\n",
    "- zadania na obrazach\n",
    "- zadania na tekście\n",
    "- zadania na dźwięku\n",
    "- zadania na wideo\n",
    "- zadania na sekwencjach\n",
    "- zadania na grafach\n",
    "- zadania na danych przestrzennych\n",
    "\n",
    "- pojecie tensora\n",
    "- pojecie batcha\n",
    "- pojecie epoki\n",
    "- pojecie zbioru treningowego, walidacyjnego, testowego\n",
    "- pojecie straty\n",
    "- pojecie metryki (jakości modelu)\n",
    "- pojecie modelu\n",
    "- pojecie uczenia nadzorowanego\n",
    "- pojecie uczenia nienadzorowanego"
   ]
  },
  {
   "cell_type": "code",
   "execution_count": null,
   "metadata": {},
   "outputs": [],
   "source": []
  }
 ],
 "metadata": {
  "language_info": {
   "name": "python"
  }
 },
 "nbformat": 4,
 "nbformat_minor": 2
}
