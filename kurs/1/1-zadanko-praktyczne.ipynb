{
 "cells": [
  {
   "cell_type": "markdown",
   "metadata": {},
   "source": [
    "Jeżeli chcesz to używaj do woli wszelkich dostępnych pomocy naukowych. Zadbaj jednak o to, aby zrozumieć każdy fragment kodu. Pomocne może okazać się proszenie czata o dodawanie wyjaśniających komentarzy do kolejnych linijek kodu. Warto zawsze przepisać kod po swojemu, aby przy okazji szybciej się uczyć."
   ]
  },
  {
   "cell_type": "code",
   "execution_count": null,
   "metadata": {},
   "outputs": [],
   "source": []
  }
 ],
 "metadata": {
  "language_info": {
   "name": "python"
  }
 },
 "nbformat": 4,
 "nbformat_minor": 2
}
